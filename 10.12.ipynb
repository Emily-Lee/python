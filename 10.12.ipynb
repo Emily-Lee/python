{
 "cells": [
  {
   "cell_type": "code",
   "execution_count": 1,
   "metadata": {
    "collapsed": false
   },
   "outputs": [
    {
     "name": "stdout",
     "output_type": "stream",
     "text": [
      " Yahoo奇摩（即時新聞） \n"
     ]
    }
   ],
   "source": [
    "cliches = [\n",
    "    \" Yahoo奇摩（即時新聞） \",\n",
    "    \"台鐵跨日末班車到站 走入歷史\",\n",
    "    \"台鐵列車今天起改點\", \n",
    "    \"其中655次莒光號車「跨日列車」\",\n",
    "    \"載著台東人滿滿的鄉愁\", \n",
    "    \"從深夜跑到中午\",\n",
    "    \"繞行3/4個台灣\",\n",
    "    \"隨著功能減退\", \n",
    "    \"最後一班車今天中午抵達高雄\",\n",
    "    \"走入歷史\",\n",
    "    ]\n",
    "print(cliches[0])"
   ]
  },
  {
   "cell_type": "code",
   "execution_count": 2,
   "metadata": {
    "collapsed": false,
    "scrolled": true
   },
   "outputs": [
    {
     "name": "stdout",
     "output_type": "stream",
     "text": [
      "5\n",
      "4\n",
      "3\n",
      "2\n",
      "1\n",
      "hey!\n"
     ]
    }
   ],
   "source": [
    "for countdown in 5, 4, 3, 2, 1, \"hey!\":\n",
    "    print(countdown)"
   ]
  },
  {
   "cell_type": "code",
   "execution_count": 3,
   "metadata": {
    "collapsed": false
   },
   "outputs": [
    {
     "name": "stdout",
     "output_type": "stream",
     "text": [
      "Curly says: Nyuk nuyk!\n"
     ]
    }
   ],
   "source": [
    "jokes = {\n",
    "    \"Moe\": \"A wise guy, huh?\",\n",
    "    \"Larry\": \"Ow!\",\n",
    "    \"Curly\": \"Nyuk nuyk!\",\n",
    "    }\n",
    "x = \"Curly\"\n",
    "print(x, \"says:\", jokes[x])"
   ]
  },
  {
   "cell_type": "code",
   "execution_count": 1,
   "metadata": {
    "collapsed": false,
    "scrolled": true
   },
   "outputs": [
    {
     "data": {
      "text/plain": [
       "72"
      ]
     },
     "execution_count": 1,
     "metadata": {},
     "output_type": "execute_result"
    }
   ],
   "source": [
    "8 * 9"
   ]
  },
  {
   "cell_type": "code",
   "execution_count": 2,
   "metadata": {
    "collapsed": false
   },
   "outputs": [
    {
     "data": {
      "text/plain": [
       "47"
      ]
     },
     "execution_count": 2,
     "metadata": {},
     "output_type": "execute_result"
    }
   ],
   "source": [
    "47"
   ]
  },
  {
   "cell_type": "code",
   "execution_count": 3,
   "metadata": {
    "collapsed": false
   },
   "outputs": [
    {
     "name": "stdout",
     "output_type": "stream",
     "text": [
      "47\n"
     ]
    }
   ],
   "source": [
    "print(47)"
   ]
  },
  {
   "cell_type": "code",
   "execution_count": null,
   "metadata": {
    "collapsed": true
   },
   "outputs": [],
   "source": []
  }
 ],
 "metadata": {
  "kernelspec": {
   "display_name": "Python 3",
   "language": "python",
   "name": "python3"
  },
  "language_info": {
   "codemirror_mode": {
    "name": "ipython",
    "version": 3
   },
   "file_extension": ".py",
   "mimetype": "text/x-python",
   "name": "python",
   "nbconvert_exporter": "python",
   "pygments_lexer": "ipython3",
   "version": "3.4.3"
  }
 },
 "nbformat": 4,
 "nbformat_minor": 0
}
